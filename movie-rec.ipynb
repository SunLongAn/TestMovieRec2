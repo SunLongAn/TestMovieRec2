{
 "cells": [
  {
   "cell_type": "code",
   "execution_count": 1460,
   "id": "8052cc79",
   "metadata": {},
   "outputs": [],
   "source": [
    "# |exporti\n",
    "\n",
    "# imports to be used in .py file\n",
    "import streamlit as st\n",
    "import pandas as pd\n",
    "from sklearn.metrics.pairwise import cosine_similarity\n",
    "from sklearn.feature_extraction.text import TfidfVectorizer"
   ]
  },
  {
   "cell_type": "code",
   "execution_count": 1461,
   "id": "2c6e7939",
   "metadata": {},
   "outputs": [],
   "source": [
    "# imports to be used in .ipynb file\n",
    "import seaborn as sns\n",
    "import matplotlib.pyplot as plt\n",
    "%matplotlib inline\n",
    "from collections import Counter\n",
    "from nbdev.export import nb_export\n",
    "from streamlit_jupyter import StreamlitPatcher, tqdm"
   ]
  },
  {
   "cell_type": "code",
   "execution_count": 1462,
   "id": "be88ef5a",
   "metadata": {},
   "outputs": [],
   "source": [
    "# allows for Streamlit code to work within jupyter notebook\n",
    "sp = StreamlitPatcher()\n",
    "sp.jupyter()  # register patcher with streamlit"
   ]
  },
  {
   "cell_type": "code",
   "execution_count": 1463,
   "id": "2e49f441",
   "metadata": {},
   "outputs": [
    {
     "data": {
      "text/markdown": [
       "# :blue[Fanz O' Filmz] Movie Recommender"
      ],
      "text/plain": [
       "<IPython.core.display.Markdown object>"
      ]
     },
     "metadata": {},
     "output_type": "display_data"
    }
   ],
   "source": [
    "# |exporti\n",
    "\n",
    "# create title for web app\n",
    "st.title(\":blue[Fanz O' Filmz] Movie Recommender\")"
   ]
  },
  {
   "cell_type": "markdown",
   "id": "d72d5236",
   "metadata": {},
   "source": [
    "### Import data and prepare data for exploring"
   ]
  },
  {
   "cell_type": "code",
   "execution_count": 1464,
   "id": "bf5bf875",
   "metadata": {},
   "outputs": [],
   "source": [
    "# |exporti \n",
    "\n",
    "# import data to dataframe\n",
    "df = pd.read_csv('data/IMDb_All_Genres_etf_clean1.csv')"
   ]
  },
  {
   "cell_type": "code",
   "execution_count": 1465,
   "id": "a397a147",
   "metadata": {},
   "outputs": [],
   "source": [
    "# |exporti\n",
    "\n",
    "# create copy of dataframe for editing to prevent errors, selecting features used for recommendations\n",
    "movies = df[['Movie_Title', 'Year', 'Director', 'Actors', 'main_genre', 'side_genre']].copy()"
   ]
  },
  {
   "cell_type": "code",
   "execution_count": 1466,
   "id": "48affc4c",
   "metadata": {},
   "outputs": [],
   "source": [
    "# |exporti\n",
    "\n",
    "# function to combine genre columns\n",
    "def combine_genres(data):\n",
    "    comb_genres = []\n",
    "    for i in range(0, data.shape[0]):\n",
    "        comb_genres.append(data['main_genre'][i] + ' ' + data['side_genre'][i])\n",
    "        \n",
    "    return comb_genres"
   ]
  },
  {
   "cell_type": "code",
   "execution_count": 1467,
   "id": "7b890a87",
   "metadata": {},
   "outputs": [],
   "source": [
    "# |exporti\n",
    "\n",
    "# prepare column for combination\n",
    "movies['side_genre'] = movies['side_genre'].str.replace(\",\",\"\")"
   ]
  },
  {
   "cell_type": "code",
   "execution_count": 1468,
   "id": "7e291f9b",
   "metadata": {},
   "outputs": [],
   "source": [
    "# |exporti\n",
    "\n",
    "# combine genre columns\n",
    "movies['genres'] = combine_genres(movies)"
   ]
  },
  {
   "cell_type": "code",
   "execution_count": 1469,
   "id": "9df11054",
   "metadata": {},
   "outputs": [],
   "source": [
    "# |exporti\n",
    "\n",
    "# drop original genre columns - no longer needed\n",
    "movies = movies.drop(columns = ['main_genre', 'side_genre'])"
   ]
  },
  {
   "cell_type": "code",
   "execution_count": 1470,
   "id": "883dc6f8",
   "metadata": {},
   "outputs": [],
   "source": [
    "# |exporti\n",
    "\n",
    "# combine Movie_Title and Year columns to make unique titles in the case of different movies having the same name\n",
    "def get_clean_title(data):\n",
    "    clean_title = []\n",
    "    for i in range(0, data.shape[0]):\n",
    "        clean_title.append(data['Movie_Title'][i] + ' (' + str(data['Year'][i]) + ')')\n",
    "        \n",
    "    return clean_title"
   ]
  },
  {
   "cell_type": "code",
   "execution_count": 1471,
   "id": "2fc5fa76",
   "metadata": {},
   "outputs": [],
   "source": [
    "# |exporti\n",
    "\n",
    "# create clean_title column\n",
    "movies['clean_title'] = get_clean_title(movies)"
   ]
  },
  {
   "cell_type": "code",
   "execution_count": 1472,
   "id": "5f27f0d6",
   "metadata": {},
   "outputs": [
    {
     "data": {
      "text/plain": [
       "False"
      ]
     },
     "execution_count": 1472,
     "metadata": {},
     "output_type": "execute_result"
    }
   ],
   "source": [
    "# check for duplicate films\n",
    "movies['clean_title'].is_unique"
   ]
  },
  {
   "cell_type": "code",
   "execution_count": 1473,
   "id": "2252df6b",
   "metadata": {},
   "outputs": [],
   "source": [
    "# |exporti\n",
    "\n",
    "# remove duplicate rows from dataframe\n",
    "movies = movies.drop_duplicates(subset = ['clean_title']).copy()"
   ]
  },
  {
   "cell_type": "code",
   "execution_count": 1474,
   "id": "77f1fae4",
   "metadata": {},
   "outputs": [
    {
     "data": {
      "text/plain": [
       "True"
      ]
     },
     "execution_count": 1474,
     "metadata": {},
     "output_type": "execute_result"
    }
   ],
   "source": [
    "# confirm duplicates are removed\n",
    "movies['clean_title'].is_unique"
   ]
  },
  {
   "cell_type": "code",
   "execution_count": 1475,
   "id": "54fa5fdb",
   "metadata": {},
   "outputs": [],
   "source": [
    "# |exporti\n",
    "\n",
    "# reset indices in dataframe to clear empty duplicate indexes\n",
    "movies.reset_index(inplace = True, drop = True)"
   ]
  },
  {
   "cell_type": "code",
   "execution_count": 1476,
   "id": "ab6c6f7c",
   "metadata": {},
   "outputs": [
    {
     "data": {
      "text/html": [
       "<div>\n",
       "<style scoped>\n",
       "    .dataframe tbody tr th:only-of-type {\n",
       "        vertical-align: middle;\n",
       "    }\n",
       "\n",
       "    .dataframe tbody tr th {\n",
       "        vertical-align: top;\n",
       "    }\n",
       "\n",
       "    .dataframe thead th {\n",
       "        text-align: right;\n",
       "    }\n",
       "</style>\n",
       "<table border=\"1\" class=\"dataframe\">\n",
       "  <thead>\n",
       "    <tr style=\"text-align: right;\">\n",
       "      <th></th>\n",
       "      <th>Movie_Title</th>\n",
       "      <th>Year</th>\n",
       "      <th>Director</th>\n",
       "      <th>Actors</th>\n",
       "      <th>genres</th>\n",
       "      <th>clean_title</th>\n",
       "    </tr>\n",
       "  </thead>\n",
       "  <tbody>\n",
       "    <tr>\n",
       "      <th>0</th>\n",
       "      <td>Kantara</td>\n",
       "      <td>2022</td>\n",
       "      <td>Rishab Shetty</td>\n",
       "      <td>Rishab Shetty, Sapthami Gowda, Kishore Kumar G...</td>\n",
       "      <td>Action  Adventure  Drama</td>\n",
       "      <td>Kantara (2022)</td>\n",
       "    </tr>\n",
       "    <tr>\n",
       "      <th>1</th>\n",
       "      <td>The Dark Knight</td>\n",
       "      <td>2008</td>\n",
       "      <td>Christopher Nolan</td>\n",
       "      <td>Christian Bale, Heath Ledger, Aaron Eckhart, M...</td>\n",
       "      <td>Action  Crime  Drama</td>\n",
       "      <td>The Dark Knight (2008)</td>\n",
       "    </tr>\n",
       "    <tr>\n",
       "      <th>2</th>\n",
       "      <td>The Lord of the Rings: The Return of the King</td>\n",
       "      <td>2003</td>\n",
       "      <td>Peter Jackson</td>\n",
       "      <td>Elijah Wood, Viggo Mortensen, Ian McKellen, Or...</td>\n",
       "      <td>Action  Adventure  Drama</td>\n",
       "      <td>The Lord of the Rings: The Return of the King ...</td>\n",
       "    </tr>\n",
       "    <tr>\n",
       "      <th>3</th>\n",
       "      <td>Inception</td>\n",
       "      <td>2010</td>\n",
       "      <td>Christopher Nolan</td>\n",
       "      <td>Leonardo DiCaprio, Joseph Gordon-Levitt, Ellio...</td>\n",
       "      <td>Action  Adventure  Sci-Fi</td>\n",
       "      <td>Inception (2010)</td>\n",
       "    </tr>\n",
       "    <tr>\n",
       "      <th>4</th>\n",
       "      <td>The Lord of the Rings: The Two Towers</td>\n",
       "      <td>2002</td>\n",
       "      <td>Peter Jackson</td>\n",
       "      <td>Elijah Wood, Ian McKellen, Viggo Mortensen, Or...</td>\n",
       "      <td>Action  Adventure  Drama</td>\n",
       "      <td>The Lord of the Rings: The Two Towers (2002)</td>\n",
       "    </tr>\n",
       "  </tbody>\n",
       "</table>\n",
       "</div>"
      ],
      "text/plain": [
       "                                     Movie_Title  Year           Director  \\\n",
       "0                                        Kantara  2022      Rishab Shetty   \n",
       "1                                The Dark Knight  2008  Christopher Nolan   \n",
       "2  The Lord of the Rings: The Return of the King  2003      Peter Jackson   \n",
       "3                                      Inception  2010  Christopher Nolan   \n",
       "4          The Lord of the Rings: The Two Towers  2002      Peter Jackson   \n",
       "\n",
       "                                              Actors  \\\n",
       "0  Rishab Shetty, Sapthami Gowda, Kishore Kumar G...   \n",
       "1  Christian Bale, Heath Ledger, Aaron Eckhart, M...   \n",
       "2  Elijah Wood, Viggo Mortensen, Ian McKellen, Or...   \n",
       "3  Leonardo DiCaprio, Joseph Gordon-Levitt, Ellio...   \n",
       "4  Elijah Wood, Ian McKellen, Viggo Mortensen, Or...   \n",
       "\n",
       "                      genres  \\\n",
       "0   Action  Adventure  Drama   \n",
       "1       Action  Crime  Drama   \n",
       "2   Action  Adventure  Drama   \n",
       "3  Action  Adventure  Sci-Fi   \n",
       "4   Action  Adventure  Drama   \n",
       "\n",
       "                                         clean_title  \n",
       "0                                     Kantara (2022)  \n",
       "1                             The Dark Knight (2008)  \n",
       "2  The Lord of the Rings: The Return of the King ...  \n",
       "3                                   Inception (2010)  \n",
       "4       The Lord of the Rings: The Two Towers (2002)  "
      ]
     },
     "execution_count": 1476,
     "metadata": {},
     "output_type": "execute_result"
    }
   ],
   "source": [
    "movies.head()"
   ]
  },
  {
   "cell_type": "code",
   "execution_count": 1477,
   "id": "db553d78",
   "metadata": {},
   "outputs": [],
   "source": [
    "# |exporti\n",
    "\n",
    "# prepare columns then split into lists\n",
    "movies['Director'] = movies[\"Director\"].str.replace(\"Directors:\", \"\")\n",
    "movies['Director'] = movies['Director'].map(lambda x: x.replace(\" \", \"\").lower().split(',')[:3])\n",
    "\n",
    "movies['Actors'] = movies['Actors'].map(lambda x: x.replace(\" \", \"\").lower().split(',')[:4])\n",
    "\n",
    "movies['genres'] = movies['genres'].map(lambda x: x.lower().split())"
   ]
  },
  {
   "cell_type": "code",
   "execution_count": 1480,
   "id": "dbebdf6f",
   "metadata": {},
   "outputs": [
    {
     "data": {
      "text/html": [
       "<div>\n",
       "<style scoped>\n",
       "    .dataframe tbody tr th:only-of-type {\n",
       "        vertical-align: middle;\n",
       "    }\n",
       "\n",
       "    .dataframe tbody tr th {\n",
       "        vertical-align: top;\n",
       "    }\n",
       "\n",
       "    .dataframe thead th {\n",
       "        text-align: right;\n",
       "    }\n",
       "</style>\n",
       "<table border=\"1\" class=\"dataframe\">\n",
       "  <thead>\n",
       "    <tr style=\"text-align: right;\">\n",
       "      <th></th>\n",
       "      <th>Movie_Title</th>\n",
       "      <th>Year</th>\n",
       "      <th>Director</th>\n",
       "      <th>Actors</th>\n",
       "      <th>genres</th>\n",
       "      <th>clean_title</th>\n",
       "    </tr>\n",
       "  </thead>\n",
       "  <tbody>\n",
       "    <tr>\n",
       "      <th>0</th>\n",
       "      <td>Kantara</td>\n",
       "      <td>2022</td>\n",
       "      <td>[rishabshetty]</td>\n",
       "      <td>[rishabshetty, sapthamigowda, kishorekumarg., ...</td>\n",
       "      <td>[action, adventure, drama]</td>\n",
       "      <td>Kantara (2022)</td>\n",
       "    </tr>\n",
       "    <tr>\n",
       "      <th>1</th>\n",
       "      <td>The Dark Knight</td>\n",
       "      <td>2008</td>\n",
       "      <td>[christophernolan]</td>\n",
       "      <td>[christianbale, heathledger, aaroneckhart, mic...</td>\n",
       "      <td>[action, crime, drama]</td>\n",
       "      <td>The Dark Knight (2008)</td>\n",
       "    </tr>\n",
       "    <tr>\n",
       "      <th>2</th>\n",
       "      <td>The Lord of the Rings: The Return of the King</td>\n",
       "      <td>2003</td>\n",
       "      <td>[peterjackson]</td>\n",
       "      <td>[elijahwood, viggomortensen, ianmckellen, orla...</td>\n",
       "      <td>[action, adventure, drama]</td>\n",
       "      <td>The Lord of the Rings: The Return of the King ...</td>\n",
       "    </tr>\n",
       "    <tr>\n",
       "      <th>3</th>\n",
       "      <td>Inception</td>\n",
       "      <td>2010</td>\n",
       "      <td>[christophernolan]</td>\n",
       "      <td>[leonardodicaprio, josephgordon-levitt, elliot...</td>\n",
       "      <td>[action, adventure, sci-fi]</td>\n",
       "      <td>Inception (2010)</td>\n",
       "    </tr>\n",
       "    <tr>\n",
       "      <th>4</th>\n",
       "      <td>The Lord of the Rings: The Two Towers</td>\n",
       "      <td>2002</td>\n",
       "      <td>[peterjackson]</td>\n",
       "      <td>[elijahwood, ianmckellen, viggomortensen, orla...</td>\n",
       "      <td>[action, adventure, drama]</td>\n",
       "      <td>The Lord of the Rings: The Two Towers (2002)</td>\n",
       "    </tr>\n",
       "  </tbody>\n",
       "</table>\n",
       "</div>"
      ],
      "text/plain": [
       "                                     Movie_Title  Year            Director  \\\n",
       "0                                        Kantara  2022      [rishabshetty]   \n",
       "1                                The Dark Knight  2008  [christophernolan]   \n",
       "2  The Lord of the Rings: The Return of the King  2003      [peterjackson]   \n",
       "3                                      Inception  2010  [christophernolan]   \n",
       "4          The Lord of the Rings: The Two Towers  2002      [peterjackson]   \n",
       "\n",
       "                                              Actors  \\\n",
       "0  [rishabshetty, sapthamigowda, kishorekumarg., ...   \n",
       "1  [christianbale, heathledger, aaroneckhart, mic...   \n",
       "2  [elijahwood, viggomortensen, ianmckellen, orla...   \n",
       "3  [leonardodicaprio, josephgordon-levitt, elliot...   \n",
       "4  [elijahwood, ianmckellen, viggomortensen, orla...   \n",
       "\n",
       "                        genres  \\\n",
       "0   [action, adventure, drama]   \n",
       "1       [action, crime, drama]   \n",
       "2   [action, adventure, drama]   \n",
       "3  [action, adventure, sci-fi]   \n",
       "4   [action, adventure, drama]   \n",
       "\n",
       "                                         clean_title  \n",
       "0                                     Kantara (2022)  \n",
       "1                             The Dark Knight (2008)  \n",
       "2  The Lord of the Rings: The Return of the King ...  \n",
       "3                                   Inception (2010)  \n",
       "4       The Lord of the Rings: The Two Towers (2002)  "
      ]
     },
     "execution_count": 1480,
     "metadata": {},
     "output_type": "execute_result"
    }
   ],
   "source": [
    "movies.head()"
   ]
  },
  {
   "cell_type": "markdown",
   "id": "c6f32fed",
   "metadata": {},
   "source": [
    "### Explore the data"
   ]
  },
  {
   "cell_type": "code",
   "execution_count": 1508,
   "id": "0bcca09b",
   "metadata": {},
   "outputs": [
    {
     "data": {
      "image/png": "[encoded data removed]",
      "text/plain": [
       "<Figure size 800x400 with 1 Axes>"
      ]
     },
     "metadata": {},
     "output_type": "display_data"
    }
   ],
   "source": [
    "# count number of genre occurrences\n",
    "genre_counter = Counter(g for genres in movies['genres'] for g in genres)\n",
    "\n",
    "# create dataframe to plot genre count data\n",
    "genre_counter_df = pd.DataFrame([genre_counter]).T.reset_index()\n",
    "genre_counter_df.columns = ['Genres', 'Movies']\n",
    "genre_counter_df = genre_counter_df.sort_values(by = 'Movies', ascending=False)\n",
    "\n",
    "fig = plt.figure(figsize=(8,4))\n",
    "sns.barplot(x = 'Genres', y = 'Movies', data = genre_counter_df)\n",
    "plt.title(\"Number of Movies Per Genre\")\n",
    "plt.xticks(rotation = 50)\n",
    "plt.show()"
   ]
  },
  {
   "cell_type": "code",
   "execution_count": 1501,
   "id": "77b5eaa3",
   "metadata": {},
   "outputs": [
    {
     "data": {
      "image/png": "[encoded data removed]",
      "text/plain": [
       "<Figure size 640x480 with 1 Axes>"
      ]
     },
     "metadata": {},
     "output_type": "display_data"
    }
   ],
   "source": [
    "# count number of movies an actor is featured in\n",
    "actor_counter = Counter(a for actors in movies['Actors'] for a in actors)\n",
    "\n",
    "# create dataframe to plot top 30 actor/movie data\n",
    "actor_counter_df = pd.DataFrame([actor_counter]).T.reset_index()\n",
    "actor_counter_df.columns = ['Actors', 'Movies']\n",
    "actor_counter_df = actor_counter_df.sort_values(by = 'Movies', ascending = False)\n",
    "\n",
    "sns.barplot(data = actor_counter_df.head(30), x = 'Movies', y = 'Actors', palette = 'flare')\n",
    "plt.title(\"Top 30 Actors Based on Number of Movies Featured In\")\n",
    "plt.show()"
   ]
  },
  {
   "cell_type": "code",
   "execution_count": 1490,
   "id": "d887eae1",
   "metadata": {},
   "outputs": [],
   "source": [
    "# |exporti\n",
    "\n",
    "# initialize variable and create function to round year down to find decade of movie release\n",
    "y = 2003\n",
    "\n",
    "def round_down(year):\n",
    "    return year - (year % 10)"
   ]
  },
  {
   "cell_type": "code",
   "execution_count": 1489,
   "id": "5f9fa120",
   "metadata": {},
   "outputs": [
    {
     "data": {
      "text/plain": [
       "2000"
      ]
     },
     "execution_count": 1489,
     "metadata": {},
     "output_type": "execute_result"
    }
   ],
   "source": [
    "# test function\n",
    "round_down(y)"
   ]
  },
  {
   "cell_type": "code",
   "execution_count": 1491,
   "id": "4d9c4d58",
   "metadata": {},
   "outputs": [],
   "source": [
    "# |exporti\n",
    "\n",
    "# create decade column based on movie release year\n",
    "movies['decade'] = movies['Year'].apply(round_down)"
   ]
  },
  {
   "cell_type": "code",
   "execution_count": 1509,
   "id": "b88c25a7",
   "metadata": {},
   "outputs": [
    {
     "data": {
      "image/png": "[encoded data removed]",
      "text/plain": [
       "<Figure size 640x480 with 1 Axes>"
      ]
     },
     "metadata": {},
     "output_type": "display_data"
    }
   ],
   "source": [
    "# plot to count the number of movies released in each decade\n",
    "sns.countplot(x = movies['decade'], palette = 'mako')\n",
    "plt.ylabel(\"Movies\")\n",
    "plt.xlabel(\"Decade\")\n",
    "plt.title(\"Number of Movies Released Per Decade\");"
   ]
  },
  {
   "cell_type": "code",
   "execution_count": 1510,
   "id": "361b3b57",
   "metadata": {},
   "outputs": [],
   "source": [
    "# |exporti\n",
    "\n",
    "# join on columns to turn them into strings\n",
    "movies['Director'] = movies['Director'].str.join(\" \")\n",
    "\n",
    "movies['Actors'] = movies['Actors'].str.join(\" \")\n",
    "\n",
    "movies['genres'] = movies['genres'].str.join(\" \")"
   ]
  },
  {
   "cell_type": "code",
   "execution_count": 1511,
   "id": "db72491c",
   "metadata": {},
   "outputs": [
    {
     "data": {
      "text/html": [
       "<div>\n",
       "<style scoped>\n",
       "    .dataframe tbody tr th:only-of-type {\n",
       "        vertical-align: middle;\n",
       "    }\n",
       "\n",
       "    .dataframe tbody tr th {\n",
       "        vertical-align: top;\n",
       "    }\n",
       "\n",
       "    .dataframe thead th {\n",
       "        text-align: right;\n",
       "    }\n",
       "</style>\n",
       "<table border=\"1\" class=\"dataframe\">\n",
       "  <thead>\n",
       "    <tr style=\"text-align: right;\">\n",
       "      <th></th>\n",
       "      <th>Movie_Title</th>\n",
       "      <th>Year</th>\n",
       "      <th>Director</th>\n",
       "      <th>Actors</th>\n",
       "      <th>genres</th>\n",
       "      <th>clean_title</th>\n",
       "      <th>decade</th>\n",
       "    </tr>\n",
       "  </thead>\n",
       "  <tbody>\n",
       "    <tr>\n",
       "      <th>0</th>\n",
       "      <td>Kantara</td>\n",
       "      <td>2022</td>\n",
       "      <td>rishabshetty</td>\n",
       "      <td>rishabshetty sapthamigowda kishorekumarg. achy...</td>\n",
       "      <td>action adventure drama</td>\n",
       "      <td>Kantara (2022)</td>\n",
       "      <td>2020</td>\n",
       "    </tr>\n",
       "    <tr>\n",
       "      <th>1</th>\n",
       "      <td>The Dark Knight</td>\n",
       "      <td>2008</td>\n",
       "      <td>christophernolan</td>\n",
       "      <td>christianbale heathledger aaroneckhart michael...</td>\n",
       "      <td>action crime drama</td>\n",
       "      <td>The Dark Knight (2008)</td>\n",
       "      <td>2000</td>\n",
       "    </tr>\n",
       "    <tr>\n",
       "      <th>2</th>\n",
       "      <td>The Lord of the Rings: The Return of the King</td>\n",
       "      <td>2003</td>\n",
       "      <td>peterjackson</td>\n",
       "      <td>elijahwood viggomortensen ianmckellen orlandob...</td>\n",
       "      <td>action adventure drama</td>\n",
       "      <td>The Lord of the Rings: The Return of the King ...</td>\n",
       "      <td>2000</td>\n",
       "    </tr>\n",
       "    <tr>\n",
       "      <th>3</th>\n",
       "      <td>Inception</td>\n",
       "      <td>2010</td>\n",
       "      <td>christophernolan</td>\n",
       "      <td>leonardodicaprio josephgordon-levitt elliotpag...</td>\n",
       "      <td>action adventure sci-fi</td>\n",
       "      <td>Inception (2010)</td>\n",
       "      <td>2010</td>\n",
       "    </tr>\n",
       "    <tr>\n",
       "      <th>4</th>\n",
       "      <td>The Lord of the Rings: The Two Towers</td>\n",
       "      <td>2002</td>\n",
       "      <td>peterjackson</td>\n",
       "      <td>elijahwood ianmckellen viggomortensen orlandob...</td>\n",
       "      <td>action adventure drama</td>\n",
       "      <td>The Lord of the Rings: The Two Towers (2002)</td>\n",
       "      <td>2000</td>\n",
       "    </tr>\n",
       "  </tbody>\n",
       "</table>\n",
       "</div>"
      ],
      "text/plain": [
       "                                     Movie_Title  Year          Director  \\\n",
       "0                                        Kantara  2022      rishabshetty   \n",
       "1                                The Dark Knight  2008  christophernolan   \n",
       "2  The Lord of the Rings: The Return of the King  2003      peterjackson   \n",
       "3                                      Inception  2010  christophernolan   \n",
       "4          The Lord of the Rings: The Two Towers  2002      peterjackson   \n",
       "\n",
       "                                              Actors                   genres  \\\n",
       "0  rishabshetty sapthamigowda kishorekumarg. achy...   action adventure drama   \n",
       "1  christianbale heathledger aaroneckhart michael...       action crime drama   \n",
       "2  elijahwood viggomortensen ianmckellen orlandob...   action adventure drama   \n",
       "3  leonardodicaprio josephgordon-levitt elliotpag...  action adventure sci-fi   \n",
       "4  elijahwood ianmckellen viggomortensen orlandob...   action adventure drama   \n",
       "\n",
       "                                         clean_title  decade  \n",
       "0                                     Kantara (2022)    2020  \n",
       "1                             The Dark Knight (2008)    2000  \n",
       "2  The Lord of the Rings: The Return of the King ...    2000  \n",
       "3                                   Inception (2010)    2010  \n",
       "4       The Lord of the Rings: The Two Towers (2002)    2000  "
      ]
     },
     "execution_count": 1511,
     "metadata": {},
     "output_type": "execute_result"
    }
   ],
   "source": [
    "movies.head()"
   ]
  },
  {
   "cell_type": "code",
   "execution_count": 1512,
   "id": "f591c007",
   "metadata": {},
   "outputs": [],
   "source": [
    "# |exporti\n",
    "\n",
    "# combine feature columns into a single column to use as corpus\n",
    "def combine_features(data):\n",
    "    combined_features = []\n",
    "    for i in range(0, data.shape[0]):\n",
    "        combined_features.append(str(data['decade'][i]) + ' ' +\n",
    "                                 data['genres'][i] + ' ' +\n",
    "                                 data['Actors'][i] + ' ' +\n",
    "                                 data['Director'][i])\n",
    "        \n",
    "    return combined_features"
   ]
  },
  {
   "cell_type": "code",
   "execution_count": 1513,
   "id": "ab91337b",
   "metadata": {},
   "outputs": [],
   "source": [
    "# |exporti\n",
    "\n",
    "# create the combined_feature column\n",
    "movies['combined_features'] = combine_features(movies)"
   ]
  },
  {
   "cell_type": "code",
   "execution_count": 1514,
   "id": "610f77c1",
   "metadata": {},
   "outputs": [
    {
     "data": {
      "text/html": [
       "<div>\n",
       "<style scoped>\n",
       "    .dataframe tbody tr th:only-of-type {\n",
       "        vertical-align: middle;\n",
       "    }\n",
       "\n",
       "    .dataframe tbody tr th {\n",
       "        vertical-align: top;\n",
       "    }\n",
       "\n",
       "    .dataframe thead th {\n",
       "        text-align: right;\n",
       "    }\n",
       "</style>\n",
       "<table border=\"1\" class=\"dataframe\">\n",
       "  <thead>\n",
       "    <tr style=\"text-align: right;\">\n",
       "      <th></th>\n",
       "      <th>Movie_Title</th>\n",
       "      <th>Year</th>\n",
       "      <th>Director</th>\n",
       "      <th>Actors</th>\n",
       "      <th>genres</th>\n",
       "      <th>clean_title</th>\n",
       "      <th>decade</th>\n",
       "      <th>combined_features</th>\n",
       "    </tr>\n",
       "  </thead>\n",
       "  <tbody>\n",
       "    <tr>\n",
       "      <th>0</th>\n",
       "      <td>Kantara</td>\n",
       "      <td>2022</td>\n",
       "      <td>rishabshetty</td>\n",
       "      <td>rishabshetty sapthamigowda kishorekumarg. achy...</td>\n",
       "      <td>action adventure drama</td>\n",
       "      <td>Kantara (2022)</td>\n",
       "      <td>2020</td>\n",
       "      <td>2020 action adventure drama rishabshetty sapth...</td>\n",
       "    </tr>\n",
       "    <tr>\n",
       "      <th>1</th>\n",
       "      <td>The Dark Knight</td>\n",
       "      <td>2008</td>\n",
       "      <td>christophernolan</td>\n",
       "      <td>christianbale heathledger aaroneckhart michael...</td>\n",
       "      <td>action crime drama</td>\n",
       "      <td>The Dark Knight (2008)</td>\n",
       "      <td>2000</td>\n",
       "      <td>2000 action crime drama christianbale heathled...</td>\n",
       "    </tr>\n",
       "    <tr>\n",
       "      <th>2</th>\n",
       "      <td>The Lord of the Rings: The Return of the King</td>\n",
       "      <td>2003</td>\n",
       "      <td>peterjackson</td>\n",
       "      <td>elijahwood viggomortensen ianmckellen orlandob...</td>\n",
       "      <td>action adventure drama</td>\n",
       "      <td>The Lord of the Rings: The Return of the King ...</td>\n",
       "      <td>2000</td>\n",
       "      <td>2000 action adventure drama elijahwood viggomo...</td>\n",
       "    </tr>\n",
       "    <tr>\n",
       "      <th>3</th>\n",
       "      <td>Inception</td>\n",
       "      <td>2010</td>\n",
       "      <td>christophernolan</td>\n",
       "      <td>leonardodicaprio josephgordon-levitt elliotpag...</td>\n",
       "      <td>action adventure sci-fi</td>\n",
       "      <td>Inception (2010)</td>\n",
       "      <td>2010</td>\n",
       "      <td>2010 action adventure sci-fi leonardodicaprio ...</td>\n",
       "    </tr>\n",
       "    <tr>\n",
       "      <th>4</th>\n",
       "      <td>The Lord of the Rings: The Two Towers</td>\n",
       "      <td>2002</td>\n",
       "      <td>peterjackson</td>\n",
       "      <td>elijahwood ianmckellen viggomortensen orlandob...</td>\n",
       "      <td>action adventure drama</td>\n",
       "      <td>The Lord of the Rings: The Two Towers (2002)</td>\n",
       "      <td>2000</td>\n",
       "      <td>2000 action adventure drama elijahwood ianmcke...</td>\n",
       "    </tr>\n",
       "  </tbody>\n",
       "</table>\n",
       "</div>"
      ],
      "text/plain": [
       "                                     Movie_Title  Year          Director  \\\n",
       "0                                        Kantara  2022      rishabshetty   \n",
       "1                                The Dark Knight  2008  christophernolan   \n",
       "2  The Lord of the Rings: The Return of the King  2003      peterjackson   \n",
       "3                                      Inception  2010  christophernolan   \n",
       "4          The Lord of the Rings: The Two Towers  2002      peterjackson   \n",
       "\n",
       "                                              Actors                   genres  \\\n",
       "0  rishabshetty sapthamigowda kishorekumarg. achy...   action adventure drama   \n",
       "1  christianbale heathledger aaroneckhart michael...       action crime drama   \n",
       "2  elijahwood viggomortensen ianmckellen orlandob...   action adventure drama   \n",
       "3  leonardodicaprio josephgordon-levitt elliotpag...  action adventure sci-fi   \n",
       "4  elijahwood ianmckellen viggomortensen orlandob...   action adventure drama   \n",
       "\n",
       "                                         clean_title  decade  \\\n",
       "0                                     Kantara (2022)    2020   \n",
       "1                             The Dark Knight (2008)    2000   \n",
       "2  The Lord of the Rings: The Return of the King ...    2000   \n",
       "3                                   Inception (2010)    2010   \n",
       "4       The Lord of the Rings: The Two Towers (2002)    2000   \n",
       "\n",
       "                                   combined_features  \n",
       "0  2020 action adventure drama rishabshetty sapth...  \n",
       "1  2000 action crime drama christianbale heathled...  \n",
       "2  2000 action adventure drama elijahwood viggomo...  \n",
       "3  2010 action adventure sci-fi leonardodicaprio ...  \n",
       "4  2000 action adventure drama elijahwood ianmcke...  "
      ]
     },
     "execution_count": 1514,
     "metadata": {},
     "output_type": "execute_result"
    }
   ],
   "source": [
    "movies.head()"
   ]
  },
  {
   "cell_type": "markdown",
   "id": "c0f43d30",
   "metadata": {},
   "source": [
    "### Apply Content-Based Filtering model by vectorizing data and measuring cosine similarity between movies"
   ]
  },
  {
   "cell_type": "code",
   "execution_count": 1527,
   "id": "9ab788a4",
   "metadata": {},
   "outputs": [],
   "source": [
    "# |exporti\n",
    "\n",
    "# vectorize the combined_features column and transform into a matrix\n",
    "vec = TfidfVectorizer()\n",
    "vec_matrix = vec.fit_transform(movies['combined_features'])"
   ]
  },
  {
   "cell_type": "code",
   "execution_count": 1528,
   "id": "2ebfb472",
   "metadata": {},
   "outputs": [],
   "source": [
    "# |exporti\n",
    "\n",
    "# get cosine similarity maxtrix from the vectorized matrix\n",
    "cs = cosine_similarity(vec_matrix)"
   ]
  },
  {
   "cell_type": "code",
   "execution_count": 1531,
   "id": "e164b2ae",
   "metadata": {},
   "outputs": [],
   "source": [
    "# |exporti\n",
    "\n",
    "# finds index of user-chosen movie, then provides a sorted list based on the\n",
    "# cosine similarity distance between other movies and recommends the top 5 matches\n",
    "def recommend(movie):\n",
    "    movie_index = movies[movies['clean_title'] == movie].index[0]\n",
    "    cs_distances = cs[movie_index]\n",
    "    movie_list = sorted(list(enumerate(cs_distances)), reverse = True, key = lambda x: x[1])[1:6]\n",
    "\n",
    "    recommended_movies = []\n",
    "    for i in movie_list:\n",
    "        recommended_movies.append(movies.iloc[i[0]].clean_title)\n",
    "\n",
    "    return recommended_movies"
   ]
  },
  {
   "cell_type": "code",
   "execution_count": 1532,
   "id": "3207456c",
   "metadata": {},
   "outputs": [
    {
     "data": {
      "text/plain": [
       "['Avengers: Age of Ultron (2015)',\n",
       " 'Captain America: Civil War (2016)',\n",
       " 'Avengers: Infinity War (2018)',\n",
       " 'Captain America: The Winter Soldier (2014)',\n",
       " 'Avengers: Endgame (2019)']"
      ]
     },
     "execution_count": 1532,
     "metadata": {},
     "output_type": "execute_result"
    }
   ],
   "source": [
    "recommend(\"The Avengers (2012)\")"
   ]
  },
  {
   "cell_type": "code",
   "execution_count": 1450,
   "id": "83a898d0",
   "metadata": {
    "scrolled": true
   },
   "outputs": [
    {
     "data": {
      "application/vnd.jupyter.widget-view+json": {
       "model_id": "4c2d0074042146c7b665a1767bb409b4",
       "version_major": 2,
       "version_minor": 0
      },
      "text/plain": [
       "Dropdown(description='Please select a movie you enjoy:', options=('Kantara (2022)', 'The Dark Knight (2008)', …"
      ]
     },
     "metadata": {},
     "output_type": "display_data"
    }
   ],
   "source": [
    "# |exporti\n",
    "\n",
    "# provides a Streamlit selection box for the user to select a movie\n",
    "selected_movie_name = st.selectbox('Please select a movie you enjoy:', movies['clean_title'].values)"
   ]
  },
  {
   "cell_type": "code",
   "execution_count": 1451,
   "id": "4e424b2b",
   "metadata": {},
   "outputs": [],
   "source": [
    "# |exporti\n",
    "\n",
    "# creates a Streamlit recommendation button that when clicked will provide \n",
    "# the user with movie recommendations based on the chosen movie\n",
    "if st.button('Get Recommendations'):\n",
    "    recommendations = recommend(selected_movie_name)\n",
    "    st.write(\":blue[Based on your selection, we recommend the following movies:]\")\n",
    "    for j in recommendations:\n",
    "        st.write(j)"
   ]
  },
  {
   "cell_type": "code",
   "execution_count": 1533,
   "id": "9c177e56",
   "metadata": {},
   "outputs": [],
   "source": [
    "# exports all code snippets with the \"|exporti\" comment to a .py file\n",
    "# for use as a Streamlit web app\n",
    "nb_export(\"movie-rec.ipynb\", lib_path = \"./\", name = \"movie-rec\")"
   ]
  },
  {
   "cell_type": "markdown",
   "id": "451f5ea3",
   "metadata": {},
   "source": [
    "##### Please click the button to open the interactive web app: [![Open in Streamlit](https://static.streamlit.io/badges/streamlit_badge_black_white.svg)](https://sunlongan-testmovierec2-testmovierec2-9ranf7.streamlit.app/)"
   ]
  }
 ],
 "metadata": {
  "kernelspec": {
   "display_name": "Python 3 (ipykernel)",
   "language": "python",
   "name": "python3"
  },
  "language_info": {
   "codemirror_mode": {
    "name": "ipython",
    "version": 3
   },
   "file_extension": ".py",
   "mimetype": "text/x-python",
   "name": "python",
   "nbconvert_exporter": "python",
   "pygments_lexer": "ipython3",
   "version": "3.10.8"
  }
 },
 "nbformat": 4,
 "nbformat_minor": 5
}
